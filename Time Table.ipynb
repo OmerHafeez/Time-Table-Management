{
 "cells": [
  {
   "cell_type": "code",
   "execution_count": null,
   "id": "751324b4",
   "metadata": {},
   "outputs": [],
   "source": [
    "import pandas as pd\n",
    "\n",
    "# Read the CSV file into a DataFrame\n",
    "df_csv = pd.read_csv('TimeTable, FSC, Fall-2023.csv')\n",
    "\n",
    "# Create a new DataFrame by excluding rows with index 0 to 4\n",
    "df_filtered = df_csv.iloc[5:].reset_index(drop=True)\n",
    "\n",
    "# Extract data for the \"Room\" and \"Course\" columns\n",
    "data = {\n",
    "    'Day': [\"Monday\"] * len(df_filtered),\n",
    "    'Room': df_filtered['Monday'],\n",
    "    'Course1': df_filtered['FSC TimeTable for Fall-2023'],\n",
    "    'Course2': df_filtered['BS CS (2023)'],\n",
    "    'Course3': df_filtered['BS DS (2023)'],\n",
    "    'Course4': df_filtered['BS AI (2023)'],\n",
    "    'Course5': df_filtered['BS CY (2023)'],\n",
    "    'Course6': df_filtered['BS SE (2023)']\n",
    "}\n",
    "\n",
    "# Create a DataFrame from the extracted data\n",
    "df = pd.DataFrame(data)\n",
    "\n",
    "# Display the DataFrame\n",
    "print(df)\n"
   ]
  }
 ],
 "metadata": {
  "kernelspec": {
   "display_name": "Python 3 (ipykernel)",
   "language": "python",
   "name": "python3"
  },
  "language_info": {
   "codemirror_mode": {
    "name": "ipython",
    "version": 3
   },
   "file_extension": ".py",
   "mimetype": "text/x-python",
   "name": "python",
   "nbconvert_exporter": "python",
   "pygments_lexer": "ipython3",
   "version": "3.11.5"
  }
 },
 "nbformat": 4,
 "nbformat_minor": 5
}
